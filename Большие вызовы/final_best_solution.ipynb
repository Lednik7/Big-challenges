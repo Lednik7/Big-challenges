{
  "nbformat": 4,
  "nbformat_minor": 0,
  "metadata": {
    "colab": {
      "name": "final_best_solution.ipynb",
      "provenance": []
    },
    "kernelspec": {
      "name": "python3",
      "display_name": "Python 3"
    },
    "accelerator": "GPU"
  },
  "cells": [
    {
      "cell_type": "code",
      "metadata": {
        "id": "SFDkQMOsp7QT"
      },
      "source": [
        "# from google.colab import drive\r\n",
        "# drive.mount('/content/drive')\r\n",
        "# import os\r\n",
        "# try:\r\n",
        "#     os.chdir(\"./drive/My Drive/Кванториум/Большие вызовы\")\r\n",
        "# except: pass"
      ],
      "execution_count": null,
      "outputs": []
    },
    {
      "cell_type": "markdown",
      "metadata": {
        "id": "Xx0tTvvQ0VUc"
      },
      "source": [
        "# Загрузка данных"
      ]
    },
    {
      "cell_type": "code",
      "metadata": {
        "id": "5j7HYHnzzf55"
      },
      "source": [
        "import pandas as pd\r\n",
        "import numpy as np\r\n",
        "import warnings\r\n",
        "warnings.simplefilter(\"ignore\")\r\n",
        "\r\n",
        "df = pd.read_excel(\"Sample - Superstore.xls\")"
      ],
      "execution_count": 2,
      "outputs": []
    },
    {
      "cell_type": "code",
      "metadata": {
        "colab": {
          "base_uri": "https://localhost:8080/",
          "height": 191
        },
        "id": "UQnKbwMaqA5I",
        "outputId": "e2c3887f-3a84-4eaa-ba03-c562c21207b6"
      },
      "source": [
        "# используем праздники\r\n",
        "\r\n",
        "import pandas as pd\r\n",
        "holidays = pd.read_csv(\"holidays.csv\")\r\n",
        "arr = []\r\n",
        "for element in holidays.values:\r\n",
        "    year = element[0]\r\n",
        "    for month, days in enumerate(element[1:13], start=1):\r\n",
        "        days = days.replace(\"*\", \"\").replace(\"+\", \"\").split(\",\")\r\n",
        "        for day in days:\r\n",
        "            arr.append([pd.to_datetime(f\"{year}-{month}-{day}\"), \"Выходные\"])\r\n",
        "\r\n",
        "df_holidays = pd.DataFrame(arr, columns=[\"ds\", \"holiday\"])\r\n",
        "df_holidays.head()"
      ],
      "execution_count": 3,
      "outputs": [
        {
          "output_type": "execute_result",
          "data": {
            "text/html": [
              "<div>\n",
              "<style scoped>\n",
              "    .dataframe tbody tr th:only-of-type {\n",
              "        vertical-align: middle;\n",
              "    }\n",
              "\n",
              "    .dataframe tbody tr th {\n",
              "        vertical-align: top;\n",
              "    }\n",
              "\n",
              "    .dataframe thead th {\n",
              "        text-align: right;\n",
              "    }\n",
              "</style>\n",
              "<table border=\"1\" class=\"dataframe\">\n",
              "  <thead>\n",
              "    <tr style=\"text-align: right;\">\n",
              "      <th></th>\n",
              "      <th>ds</th>\n",
              "      <th>holiday</th>\n",
              "    </tr>\n",
              "  </thead>\n",
              "  <tbody>\n",
              "    <tr>\n",
              "      <th>0</th>\n",
              "      <td>1999-01-01</td>\n",
              "      <td>Выходные</td>\n",
              "    </tr>\n",
              "    <tr>\n",
              "      <th>1</th>\n",
              "      <td>1999-01-02</td>\n",
              "      <td>Выходные</td>\n",
              "    </tr>\n",
              "    <tr>\n",
              "      <th>2</th>\n",
              "      <td>1999-01-03</td>\n",
              "      <td>Выходные</td>\n",
              "    </tr>\n",
              "    <tr>\n",
              "      <th>3</th>\n",
              "      <td>1999-01-04</td>\n",
              "      <td>Выходные</td>\n",
              "    </tr>\n",
              "    <tr>\n",
              "      <th>4</th>\n",
              "      <td>1999-01-06</td>\n",
              "      <td>Выходные</td>\n",
              "    </tr>\n",
              "  </tbody>\n",
              "</table>\n",
              "</div>"
            ],
            "text/plain": [
              "          ds   holiday\n",
              "0 1999-01-01  Выходные\n",
              "1 1999-01-02  Выходные\n",
              "2 1999-01-03  Выходные\n",
              "3 1999-01-04  Выходные\n",
              "4 1999-01-06  Выходные"
            ]
          },
          "metadata": {
            "tags": []
          },
          "execution_count": 3
        }
      ]
    },
    {
      "cell_type": "markdown",
      "metadata": {
        "id": "FDQZgnTg0J2O"
      },
      "source": [
        "# Обработка последовательностей"
      ]
    },
    {
      "cell_type": "code",
      "metadata": {
        "id": "qyX1NyN8qJ4L"
      },
      "source": [
        "# переводим дату в числа\r\n",
        "def date_to_data(frame, holidays=None,\r\n",
        "                 drop=False, name=\"date\", suffix=\"\"):\r\n",
        "    assert name in frame, \"Нужна колонка с датой\"\r\n",
        "    date = frame[name].dt\r\n",
        "\r\n",
        "    info = pd.concat([date.days_in_month,\r\n",
        "                        date.month,\r\n",
        "                        date.quarter], axis=1)\r\n",
        "\r\n",
        "    info.columns = [\"days_in_month\", \"month\", \"quarter\"]\r\n",
        "\r\n",
        "    temp = pd.concat([date.isocalendar(),\r\n",
        "                        info], axis=1)\r\n",
        "\r\n",
        "    temp.columns = temp.columns + suffix\r\n",
        "    frame = pd.concat([frame, temp], axis=1)\r\n",
        "    if \"holiday\" not in frame:\r\n",
        "        frame = frame.merge(holidays, left_on=name, right_on=\"ds\", how=\"left\") \\\r\n",
        "            .drop([\"ds\"], axis=1)\r\n",
        "        frame[\"holiday\"] = frame[\"holiday\"].apply(lambda x: 1 if type(x) == str else 0)\r\n",
        "    if drop:\r\n",
        "        return frame.drop([name], axis=1)\r\n",
        "    return frame"
      ],
      "execution_count": 4,
      "outputs": []
    },
    {
      "cell_type": "code",
      "metadata": {
        "id": "il6G3c0Oqeye"
      },
      "source": [
        "df_new = date_to_data(df, df_holidays, name=\"Order Date\",\r\n",
        "                      suffix=\"_Order\", drop=False)\r\n",
        "\r\n",
        "df_new = date_to_data(df_new, df_holidays, name=\"Ship Date\",\r\n",
        "                      suffix=\"_Ship\",  drop=False)"
      ],
      "execution_count": 5,
      "outputs": []
    },
    {
      "cell_type": "code",
      "metadata": {
        "id": "aRxUlD2AuFpU"
      },
      "source": [
        "from sklearn.preprocessing import LabelEncoder\r\n",
        "\r\n",
        "# закодируем строки\r\n",
        "def cleaning_frame(df):\r\n",
        "    for column in df.drop([\"Sales\"], axis=1):\r\n",
        "        try:\r\n",
        "            df[column] = df[column].astype(np.int32)\r\n",
        "        except:\r\n",
        "            df[column] = df[column].astype(np.str)\r\n",
        "\r\n",
        "    data_categorical = df.select_dtypes(include=['object'])\r\n",
        "    data_numeric = df.select_dtypes(exclude=['object'])\r\n",
        "\r\n",
        "    for column in data_categorical:\r\n",
        "        data_categorical[column] = LabelEncoder() \\\r\n",
        "            .fit_transform(data_categorical[column])\r\n",
        "\r\n",
        "    df = pd.concat([data_numeric, data_categorical], axis=1)\r\n",
        "    return df"
      ],
      "execution_count": 6,
      "outputs": []
    },
    {
      "cell_type": "code",
      "metadata": {
        "id": "P6hM0EShuGQL"
      },
      "source": [
        "# сортируем по дате\r\n",
        "df_new = cleaning_frame(df_new).sort_values(by=\"Order Date\")"
      ],
      "execution_count": 7,
      "outputs": []
    },
    {
      "cell_type": "code",
      "metadata": {
        "id": "7fkYIIgYocH9"
      },
      "source": [
        "from sklearn.model_selection import train_test_split\r\n",
        "\r\n",
        "def train_test_val_split(X, y,\r\n",
        "                         test_size=0.3, val_size=0.3,\r\n",
        "                         random_state=42, shuffle=True):\r\n",
        "    \"\"\"\r\n",
        "    separator for train, test, validation\r\n",
        "    \"\"\"\r\n",
        "    X_train, X_test, y_train, y_test = train_test_split(X, y,\r\n",
        "                                                        train_size=1 - (test_size + val_size),\r\n",
        "                                                        random_state=random_state, shuffle=shuffle)\r\n",
        "    X_val, X_test, y_val, y_test = train_test_split(X_test, y_test,\r\n",
        "                                                    test_size=test_size / (test_size + val_size),\r\n",
        "                                                    random_state=random_state, shuffle=shuffle)\r\n",
        "    return X_train, y_train, X_test, y_test, X_val, y_val"
      ],
      "execution_count": 8,
      "outputs": []
    },
    {
      "cell_type": "code",
      "metadata": {
        "id": "EHSQYqqVodI4"
      },
      "source": [
        "X, y = df_new.drop([\"Sales\"], axis=1), df_new[\"Sales\"]\r\n",
        "X_train, y_train, X_test, y_test, X_val, y_val = train_test_val_split(X, y,\r\n",
        "                                                                      test_size=0.2,\r\n",
        "                                                                      val_size=0.1,\r\n",
        "                                                                      shuffle=False)"
      ],
      "execution_count": 9,
      "outputs": []
    },
    {
      "cell_type": "code",
      "metadata": {
        "id": "UeoV1m2SqlTQ"
      },
      "source": [
        "from tqdm import tqdm\r\n",
        "\r\n",
        "def merge_frames(source, names: list, target: str, bar=False):\r\n",
        "    for name in tqdm(names, disable=bar):\r\n",
        "        means = source.groupby(by=name).aggregate([\"median\", \"min\", \"mean\",\r\n",
        "                                          \"max\", \"sum\"])[target]\r\n",
        "        means.columns = means.columns + f\"_{name}\"\r\n",
        "        source = source.merge(means, on=name, how=\"left\")\r\n",
        "    return source\r\n",
        "\r\n",
        "def prepare(X, y, names):\r\n",
        "    X[\"y\"] = y\r\n",
        "    out = merge_frames(X, names, \"y\")\r\n",
        "    return out.drop([\"y\"], axis=1), out[\"y\"]"
      ],
      "execution_count": 10,
      "outputs": []
    },
    {
      "cell_type": "code",
      "metadata": {
        "id": "J0OUZoA9rFkA"
      },
      "source": [
        "# столбцы по которым считаются статистические метрики\r\n",
        "data_agg = [\"Customer ID\", \"Product ID\", [\"Customer ID\", \"Product ID\"], [\"Postal Code\", \"Product ID\"],\r\n",
        "            \"Ship Mode\", \"Category\", \"Sub-Category\", [\"Category\", \"Sub-Category\"], \"Order Date\", \"Ship Date\",\r\n",
        "            \"Region\", \"Postal Code\", \"State\", \"City\", \"Segment\", \"Quantity\",\r\n",
        "            [\"Region\", \"State\", \"City\"], [\"Ship Mode\", \"Segment\"], \"Discount\", \"Profit\",\r\n",
        "            [\"Ship Mode\", \"Segment\", \"Quantity\"], [\"Region\", \"State\"], [\"Region\", \"State\", \"City\", \"Postal Code\"],\r\n",
        "            [\"Region\", \"City\"], [\"Region\", \"State\", \"City\", \"Quantity\"],\r\n",
        "            [\"Customer ID\", \"Product ID\", \"Postal Code\"], [\"Discount\", \"Profit\"],\r\n",
        "            [\"Discount\", \"Profit\", \"Category\", \"Sub-Category\"], [\"Discount\", \"Profit\", \"Category\"],\r\n",
        "            [\"Discount\", \"Profit\", \"Sub-Category\"], \"week_Order\", \"day_Order\", [\"week_Order\", \"day_Order\"],\r\n",
        "            \"days_in_month_Order\", [\"week_Order\", \"day_Order\", \"days_in_month_Order\"],\r\n",
        "            [\"day_Order\", \"days_in_month_Order\"], [\"week_Order\", \"days_in_month_Order\"]]"
      ],
      "execution_count": 11,
      "outputs": []
    },
    {
      "cell_type": "code",
      "metadata": {
        "colab": {
          "base_uri": "https://localhost:8080/"
        },
        "id": "jFnG8jVYrNwh",
        "outputId": "42014b4e-1533-4ad1-8f94-67e4b0828e1e"
      },
      "source": [
        "# независимо расчитываем функции\r\n",
        "X_train, y_train = prepare(X_train, y_train, data_agg)\r\n",
        "X_test, y_test = prepare(X_test, y_test, data_agg)\r\n",
        "X_val, y_val = prepare(X_val, y_val, data_agg)"
      ],
      "execution_count": 12,
      "outputs": [
        {
          "output_type": "stream",
          "text": [
            "100%|██████████| 37/37 [00:14<00:00,  2.55it/s]\n",
            "100%|██████████| 37/37 [00:12<00:00,  2.86it/s]\n",
            "100%|██████████| 37/37 [00:12<00:00,  2.93it/s]\n"
          ],
          "name": "stderr"
        }
      ]
    },
    {
      "cell_type": "code",
      "metadata": {
        "id": "sMyrZOX7stJO"
      },
      "source": [
        "# колонки, которые нам не нужны\r\n",
        "trash = [\"Country\", \"Row ID\",\r\n",
        "         \"Order ID\", \"Customer ID\",\r\n",
        "         \"Product ID\", \"Order Date\", \"Ship Date\"]\r\n",
        "\r\n",
        "X_train.drop(trash, axis=1, inplace=True)\r\n",
        "X_test.drop(trash, axis=1, inplace=True)\r\n",
        "X_val.drop(trash, axis=1, inplace=True)"
      ],
      "execution_count": 13,
      "outputs": []
    },
    {
      "cell_type": "markdown",
      "metadata": {
        "id": "3C9Jhlnm0Oko"
      },
      "source": [
        "# Обучение модели"
      ]
    },
    {
      "cell_type": "code",
      "metadata": {
        "colab": {
          "base_uri": "https://localhost:8080/"
        },
        "id": "8R3liV1Kv4g-",
        "outputId": "a14678d1-1bd4-4ca3-846a-cd82dc8c2e3d"
      },
      "source": [
        "from sklearn.linear_model import LassoCV\r\n",
        "\r\n",
        "model = LassoCV(max_iter=100,\r\n",
        "                normalize=True,\r\n",
        "                n_jobs=-1)\r\n",
        "\r\n",
        "model.fit(X_train,\r\n",
        "          y_train)"
      ],
      "execution_count": 14,
      "outputs": [
        {
          "output_type": "execute_result",
          "data": {
            "text/plain": [
              "LassoCV(alphas=None, copy_X=True, cv=None, eps=0.001, fit_intercept=True,\n",
              "        max_iter=100, n_alphas=100, n_jobs=-1, normalize=True, positive=False,\n",
              "        precompute='auto', random_state=None, selection='cyclic', tol=0.0001,\n",
              "        verbose=False)"
            ]
          },
          "metadata": {
            "tags": []
          },
          "execution_count": 14
        }
      ]
    },
    {
      "cell_type": "markdown",
      "metadata": {
        "id": "SETHAOmb0Rce"
      },
      "source": [
        "# Предсказание на будущее и оценка алгоритма"
      ]
    },
    {
      "cell_type": "code",
      "metadata": {
        "id": "BvhnhVVzCJRr"
      },
      "source": [
        "from sklearn.metrics import (r2_score,\r\n",
        "                             mean_squared_error,\r\n",
        "                             mean_absolute_error)\r\n",
        "\r\n",
        "def mean_absolute_percentage_error(y_true, y_pred): \r\n",
        "    y_true, y_pred = np.array(y_true), np.array(y_pred)\r\n",
        "    return np.mean(np.abs((y_true - y_pred) / y_true)) * 100\r\n",
        "\r\n",
        "def get_metrics(y_true, y_pred):\r\n",
        "    print(f\"R2: {r2_score(y_true, y_pred)}\")\r\n",
        "    print(f\"MAE: {mean_absolute_error(y_true, y_pred)}\")\r\n",
        "    print(f\"MSE: {mean_squared_error(y_true, y_pred)}\")\r\n",
        "    print(f\"MAPE: {mean_absolute_percentage_error(y_true, y_pred)}\")"
      ],
      "execution_count": 15,
      "outputs": []
    },
    {
      "cell_type": "markdown",
      "metadata": {
        "id": "n1zsjC9TCx0m"
      },
      "source": [
        "## Валидация"
      ]
    },
    {
      "cell_type": "code",
      "metadata": {
        "colab": {
          "base_uri": "https://localhost:8080/"
        },
        "id": "gBDBRbuQCJ0C",
        "outputId": "8cf2fd88-16a3-49c3-f92d-0a18fc1102aa"
      },
      "source": [
        "predictions = model.predict(X_val)\r\n",
        "get_metrics(y_val, predictions)"
      ],
      "execution_count": 16,
      "outputs": [
        {
          "output_type": "stream",
          "text": [
            "R2: 0.9999990474956869\n",
            "MAE: 0.2594896216133304\n",
            "MSE: 0.3373448648198216\n",
            "MAPE: 1.241178163637693\n"
          ],
          "name": "stdout"
        }
      ]
    },
    {
      "cell_type": "markdown",
      "metadata": {
        "id": "mawhE07WC0U0"
      },
      "source": [
        "## Тестирование"
      ]
    },
    {
      "cell_type": "code",
      "metadata": {
        "colab": {
          "base_uri": "https://localhost:8080/"
        },
        "id": "X3JshYReCM3W",
        "outputId": "b16e2840-eadf-4562-e319-00f055730014"
      },
      "source": [
        "predictions = model.predict(X_test)\r\n",
        "get_metrics(y_test, predictions)"
      ],
      "execution_count": 17,
      "outputs": [
        {
          "output_type": "stream",
          "text": [
            "R2: 0.9991226422027965\n",
            "MAE: 0.9455433378781429\n",
            "MSE: 300.79825255945406\n",
            "MAPE: 1.3085624399677345\n"
          ],
          "name": "stdout"
        }
      ]
    }
  ]
}